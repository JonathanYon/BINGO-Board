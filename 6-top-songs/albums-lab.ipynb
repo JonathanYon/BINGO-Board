{
  "cells": [
    {
      "cell_type": "markdown",
      "metadata": {
        "id": "view-in-github",
        "colab_type": "text"
      },
      "source": [
        "<a href=\"https://colab.research.google.com/github/JonathanYon/BINGO-Board/blob/main/6-top-songs/albums-lab.ipynb\" target=\"_parent\"><img src=\"https://colab.research.google.com/assets/colab-badge.svg\" alt=\"Open In Colab\"/></a>"
      ]
    },
    {
      "cell_type": "markdown",
      "metadata": {
        "id": "7TFMc5fH9oiV"
      },
      "source": [
        "# Albums and Songs Lab"
      ]
    },
    {
      "cell_type": "markdown",
      "metadata": {
        "id": "4O9E2bIL9oii"
      },
      "source": [
        "### Introduction"
      ]
    },
    {
      "cell_type": "markdown",
      "metadata": {
        "id": "yc5rjLhk9oik"
      },
      "source": [
        "In this lesson, we'll use the skills we have learned over the past several lessons to answer questions about the top songs, artists and albums over the past fifty years."
      ]
    },
    {
      "cell_type": "markdown",
      "metadata": {
        "id": "qxc8l8mf9oil"
      },
      "source": [
        "### Working with Songs"
      ]
    },
    {
      "cell_type": "markdown",
      "metadata": {
        "id": "47VytKpg9oim"
      },
      "source": [
        "Let's start by working with data regarding top 500 albums according to the Rolling Stone Magazine."
      ]
    },
    {
      "cell_type": "code",
      "execution_count": 1,
      "metadata": {
        "id": "lQsV88at9oin"
      },
      "outputs": [],
      "source": [
        "import pandas as pd\n",
        "url = \"https://raw.githubusercontent.com/eng-6-22/mod-1-a-data-structures/master/6-top-songs/data.csv\"\n",
        "df = pd.read_csv(url)\n",
        "albums = df.to_dict('records')"
      ]
    },
    {
      "cell_type": "code",
      "execution_count": 5,
      "metadata": {
        "colab": {
          "base_uri": "https://localhost:8080/"
        },
        "id": "ycTKw5n19oip",
        "outputId": "846b54a0-c1fc-48b3-bf0c-71e24a811181"
      },
      "outputs": [
        {
          "output_type": "execute_result",
          "data": {
            "text/plain": [
              "[{'album': \"Sgt. Pepper's Lonely Hearts Club Band\",\n",
              "  'artist': 'The Beatles',\n",
              "  'genre': 'Rock',\n",
              "  'number': 1,\n",
              "  'subgenre': 'Rock & Roll, Psychedelic Rock',\n",
              "  'year': 1967},\n",
              " {'album': 'Pet Sounds',\n",
              "  'artist': 'The Beach Boys',\n",
              "  'genre': 'Rock',\n",
              "  'number': 2,\n",
              "  'subgenre': 'Pop Rock, Psychedelic Rock',\n",
              "  'year': 1966}]"
            ]
          },
          "metadata": {},
          "execution_count": 5
        }
      ],
      "source": [
        "albums[:2]"
      ]
    },
    {
      "cell_type": "code",
      "execution_count": 3,
      "metadata": {
        "colab": {
          "base_uri": "https://localhost:8080/"
        },
        "id": "ZPaWA7vg9ois",
        "outputId": "271cf742-e8ad-4ef8-df82-57173bb89d3b"
      },
      "outputs": [
        {
          "output_type": "execute_result",
          "data": {
            "text/plain": [
              "478"
            ]
          },
          "metadata": {},
          "execution_count": 3
        }
      ],
      "source": [
        "len(albums)"
      ]
    },
    {
      "cell_type": "code",
      "source": [
        "def all_albums(albums):\n",
        "  return [album['album'] for album in albums]"
      ],
      "metadata": {
        "id": "NMYOu_0V-TB3"
      },
      "execution_count": 6,
      "outputs": []
    },
    {
      "cell_type": "markdown",
      "metadata": {
        "id": "OCr8_3eN9oiy"
      },
      "source": [
        "> Well, 478."
      ]
    },
    {
      "cell_type": "code",
      "source": [
        "albums[0]"
      ],
      "metadata": {
        "colab": {
          "base_uri": "https://localhost:8080/"
        },
        "id": "Z3YeDzxA-5uk",
        "outputId": "f0f05f6e-5a5a-40a2-9037-60980ab9055e"
      },
      "execution_count": 8,
      "outputs": [
        {
          "output_type": "execute_result",
          "data": {
            "text/plain": [
              "{'album': \"Sgt. Pepper's Lonely Hearts Club Band\",\n",
              " 'artist': 'The Beatles',\n",
              " 'genre': 'Rock',\n",
              " 'number': 1,\n",
              " 'subgenre': 'Rock & Roll, Psychedelic Rock',\n",
              " 'year': 1967}"
            ]
          },
          "metadata": {},
          "execution_count": 8
        }
      ]
    },
    {
      "cell_type": "code",
      "source": [
        "all_albums(albums[3:6])"
      ],
      "metadata": {
        "colab": {
          "base_uri": "https://localhost:8080/"
        },
        "id": "hzNUhVU3-O01",
        "outputId": "542cedee-3ea1-4857-8273-c60c0ed5802f"
      },
      "execution_count": 7,
      "outputs": [
        {
          "output_type": "execute_result",
          "data": {
            "text/plain": [
              "['Highway 61 Revisited', 'Rubber Soul', \"What's Going On\"]"
            ]
          },
          "metadata": {},
          "execution_count": 7
        }
      ]
    },
    {
      "cell_type": "code",
      "source": [
        ""
      ],
      "metadata": {
        "id": "sOiJdkTp_eB4"
      },
      "execution_count": null,
      "outputs": []
    },
    {
      "cell_type": "code",
      "source": [
        "def all_artists(albums):\n",
        "  return list(set([album['artist'] for album in albums]))"
      ],
      "metadata": {
        "id": "oJc6rVkS-8g5"
      },
      "execution_count": 9,
      "outputs": []
    },
    {
      "cell_type": "code",
      "source": [
        "all_artists(albums[:8])"
      ],
      "metadata": {
        "colab": {
          "base_uri": "https://localhost:8080/"
        },
        "id": "vz5toBdD_fgV",
        "outputId": "07e89d00-1672-454a-ad7f-fe182ed2a678"
      },
      "execution_count": 10,
      "outputs": [
        {
          "output_type": "execute_result",
          "data": {
            "text/plain": [
              "['Bob Dylan',\n",
              " 'The Rolling Stones',\n",
              " 'The Clash',\n",
              " 'The Beatles',\n",
              " 'Marvin Gaye',\n",
              " 'The Beach Boys']"
            ]
          },
          "metadata": {},
          "execution_count": 10
        }
      ]
    },
    {
      "cell_type": "markdown",
      "metadata": {
        "id": "8_ouzi2Q9oi3"
      },
      "source": [
        "Let's write some functions to help us better explore the data."
      ]
    },
    {
      "cell_type": "code",
      "source": [
        "albums[0]"
      ],
      "metadata": {
        "colab": {
          "base_uri": "https://localhost:8080/"
        },
        "id": "-Oo3GIpaBOLh",
        "outputId": "90ba00af-66d3-43f9-b59a-f0b6921d7391"
      },
      "execution_count": 14,
      "outputs": [
        {
          "output_type": "execute_result",
          "data": {
            "text/plain": [
              "{'album': \"Sgt. Pepper's Lonely Hearts Club Band\",\n",
              " 'artist': 'The Beatles',\n",
              " 'genre': 'Rock',\n",
              " 'number': 1,\n",
              " 'subgenre': 'Rock & Roll, Psychedelic Rock',\n",
              " 'year': 1967}"
            ]
          },
          "metadata": {},
          "execution_count": 14
        }
      ]
    },
    {
      "cell_type": "code",
      "source": [
        "def find_by_name(albums, album_name):\n",
        "  for album in albums:\n",
        "    if album['album'] == album_name:\n",
        "      return album\n",
        "  return None # if the for loop doesnt return a truthy value from the if statement then we should go out of the loop and return default value like none.\n",
        "    \n"
      ],
      "metadata": {
        "id": "Zg_sn0We_rN2"
      },
      "execution_count": 17,
      "outputs": []
    },
    {
      "cell_type": "code",
      "source": [
        "albums[0]"
      ],
      "metadata": {
        "colab": {
          "base_uri": "https://localhost:8080/"
        },
        "id": "d7jH-fxPEuTc",
        "outputId": "c936926a-8b9d-41f1-bfc4-4f8379f3396c"
      },
      "execution_count": 21,
      "outputs": [
        {
          "output_type": "execute_result",
          "data": {
            "text/plain": [
              "{'album': \"Sgt. Pepper's Lonely Hearts Club Band\",\n",
              " 'artist': 'The Beatles',\n",
              " 'genre': 'Rock',\n",
              " 'number': 1,\n",
              " 'subgenre': 'Rock & Roll, Psychedelic Rock',\n",
              " 'year': 1967}"
            ]
          },
          "metadata": {},
          "execution_count": 21
        }
      ]
    },
    {
      "cell_type": "code",
      "source": [
        "find_by_name(albums, 'Rubber Soul')"
      ],
      "metadata": {
        "id": "2quEZD3PA0ke"
      },
      "execution_count": 19,
      "outputs": []
    },
    {
      "cell_type": "code",
      "source": [
        "def find_by_ranks(albums, begin_rank=1, end_rank=500):\n",
        "  ranked_albums = []\n",
        "  for album in albums:\n",
        "    if album['number'] >= begin_rank and album['number'] <= end_rank:\n",
        "      ranked_albums.append(album)\n",
        "  return ranked_albums\n"
      ],
      "metadata": {
        "id": "YEsbtRH8EGam"
      },
      "execution_count": 28,
      "outputs": []
    },
    {
      "cell_type": "code",
      "source": [
        "find_by_ranks(albums, 1, 2)"
      ],
      "metadata": {
        "colab": {
          "base_uri": "https://localhost:8080/"
        },
        "id": "DA27CzhPJvnn",
        "outputId": "726de0e2-c1e1-47c8-e8dc-1ffd4366a4c5"
      },
      "execution_count": 26,
      "outputs": [
        {
          "output_type": "execute_result",
          "data": {
            "text/plain": [
              "[{'album': \"Sgt. Pepper's Lonely Hearts Club Band\",\n",
              "  'artist': 'The Beatles',\n",
              "  'genre': 'Rock',\n",
              "  'number': 1,\n",
              "  'subgenre': 'Rock & Roll, Psychedelic Rock',\n",
              "  'year': 1967},\n",
              " {'album': 'Pet Sounds',\n",
              "  'artist': 'The Beach Boys',\n",
              "  'genre': 'Rock',\n",
              "  'number': 2,\n",
              "  'subgenre': 'Pop Rock, Psychedelic Rock',\n",
              "  'year': 1966}]"
            ]
          },
          "metadata": {},
          "execution_count": 26
        }
      ]
    },
    {
      "cell_type": "code",
      "source": [
        "def find_by_years(begin_year=1900, end_year=2022):\n",
        "  ranked_albums = []\n",
        "  for album in albums:\n",
        "    if album['year'] >= begin_year and album['year'] <= end_year:\n",
        "      ranked_albums.append(album)\n",
        "  return ranked_albums\n"
      ],
      "metadata": {
        "id": "BO21nsaTLjbC"
      },
      "execution_count": 29,
      "outputs": []
    },
    {
      "cell_type": "code",
      "source": [
        "find_by_years(1999, 2001)"
      ],
      "metadata": {
        "colab": {
          "base_uri": "https://localhost:8080/"
        },
        "id": "qQrZTUdAMZH3",
        "outputId": "d2198d6a-d3ac-4c6c-8478-c30068c45f00"
      },
      "execution_count": 30,
      "outputs": [
        {
          "output_type": "execute_result",
          "data": {
            "text/plain": [
              "[{'album': 'The Anthology',\n",
              "  'artist': 'Muddy Waters',\n",
              "  'genre': 'Folk, World, & Country',\n",
              "  'number': 38,\n",
              "  'subgenre': 'Folk',\n",
              "  'year': 2001},\n",
              " {'album': 'Kid A',\n",
              "  'artist': 'Radiohead',\n",
              "  'genre': 'Electronic, Rock',\n",
              "  'number': 67,\n",
              "  'subgenre': 'Alternative Rock, IDM, Experimental',\n",
              "  'year': 2000},\n",
              " {'album': 'The Definitive Collection',\n",
              "  'artist': 'ABBA',\n",
              "  'genre': 'Electronic, Pop',\n",
              "  'number': 179,\n",
              "  'subgenre': 'Europop, Synth-pop, Disco',\n",
              "  'year': 2001},\n",
              " {'album': 'Is This It',\n",
              "  'artist': 'The Strokes',\n",
              "  'genre': 'Rock',\n",
              "  'number': 199,\n",
              "  'subgenre': 'Indie Rock',\n",
              "  'year': 2001},\n",
              " {'album': 'The Neil Diamond Collection',\n",
              "  'artist': 'Neil Diamond',\n",
              "  'genre': 'Rock, Pop',\n",
              "  'number': 224,\n",
              "  'subgenre': 'Soft Rock, Ballad',\n",
              "  'year': 1999},\n",
              " {'album': 'The Ultimate Collection',\n",
              "  'artist': 'Patsy Cline',\n",
              "  'genre': 'Folk, World, & Country',\n",
              "  'number': 235,\n",
              "  'subgenre': 'None',\n",
              "  'year': 2000},\n",
              " {'album': 'The Marshall Mathers LP',\n",
              "  'artist': 'Eminem',\n",
              "  'genre': 'Hip Hop',\n",
              "  'number': 244,\n",
              "  'subgenre': 'Pop Rap, Hardcore Hip-Hop, Horrorcore',\n",
              "  'year': 2000},\n",
              " {'album': 'The Blueprint',\n",
              "  'artist': 'Jay Z',\n",
              "  'genre': 'Hip Hop',\n",
              "  'number': 252,\n",
              "  'subgenre': 'None',\n",
              "  'year': 2001},\n",
              " {'album': 'The Slim Shady LP',\n",
              "  'artist': 'Eminem',\n",
              "  'genre': 'Hip Hop',\n",
              "  'number': 275,\n",
              "  'subgenre': 'None',\n",
              "  'year': 1999},\n",
              " {'album': \"All That You Can't Leave Behind\",\n",
              "  'artist': 'U2',\n",
              "  'genre': 'Rock',\n",
              "  'number': 280,\n",
              "  'subgenre': 'Pop Rock',\n",
              "  'year': 2000},\n",
              " {'album': 'Amnesiac',\n",
              "  'artist': 'Radiohead',\n",
              "  'genre': 'Electronic, Rock',\n",
              "  'number': 320,\n",
              "  'subgenre': 'Alternative Rock, Experimental',\n",
              "  'year': 2001},\n",
              " {'album': 'Play',\n",
              "  'artist': 'Moby',\n",
              "  'genre': 'Electronic',\n",
              "  'number': 341,\n",
              "  'subgenre': 'Breakbeat, Leftfield, Downtempo',\n",
              "  'year': 1999},\n",
              " {'album': 'Stankonia',\n",
              "  'artist': 'OutKast',\n",
              "  'genre': 'Hip Hop, Funk / Soul',\n",
              "  'number': 361,\n",
              "  'subgenre': 'Gangsta, P.Funk, Crunk, Conscious',\n",
              "  'year': 2000},\n",
              " {'album': '\"Love and Theft\"',\n",
              "  'artist': 'Bob Dylan',\n",
              "  'genre': 'Rock',\n",
              "  'number': 385,\n",
              "  'subgenre': 'Folk Rock, Blues Rock',\n",
              "  'year': 2001},\n",
              " {'album': 'Californication',\n",
              "  'artist': 'Red Hot Chili Peppers',\n",
              "  'genre': 'Rock',\n",
              "  'number': 401,\n",
              "  'subgenre': 'Alternative Rock, Funk Metal',\n",
              "  'year': 1999},\n",
              " {'album': 'Mule Variations',\n",
              "  'artist': 'Tom Waits',\n",
              "  'genre': 'Electronic, Rock',\n",
              "  'number': 416,\n",
              "  'subgenre': 'Abstract, Art Rock',\n",
              "  'year': 1999},\n",
              " {'album': 'Anthology',\n",
              "  'artist': 'Diana Ross & The Supremes',\n",
              "  'genre': 'Electronic, Funk / Soul',\n",
              "  'number': 423,\n",
              "  'subgenre': 'Pop Rock, Soul, Disco',\n",
              "  'year': 2001},\n",
              " {'album': 'Stories From the City, Stories From the Sea',\n",
              "  'artist': 'PJ Harvey',\n",
              "  'genre': 'Rock',\n",
              "  'number': 431,\n",
              "  'subgenre': 'Indie Rock',\n",
              "  'year': 2000},\n",
              " {'album': '69 Love Songs',\n",
              "  'artist': 'The Magnetic Fields',\n",
              "  'genre': 'Electronic, Rock',\n",
              "  'number': 465,\n",
              "  'subgenre': 'Synth-pop, Indie Rock',\n",
              "  'year': 1999},\n",
              " {'album': 'Proxima estacion: Esperanza',\n",
              "  'artist': 'Manu Chao',\n",
              "  'genre': 'Rock, Reggae, Latin',\n",
              "  'number': 474,\n",
              "  'subgenre': 'Folk Rock, Reggae, Reggae-Pop',\n",
              "  'year': 2001},\n",
              " {'album': 'Voodoo',\n",
              "  'artist': \"D'Angelo\",\n",
              "  'genre': 'Hip Hop, Funk / Soul',\n",
              "  'number': 481,\n",
              "  'subgenre': 'Soul, Funk, Neo Soul',\n",
              "  'year': 2000},\n",
              " {'album': 'White Blood Cells',\n",
              "  'artist': 'The White Stripes',\n",
              "  'genre': 'Rock',\n",
              "  'number': 497,\n",
              "  'subgenre': 'Indie Rock, Alternative Rock, Blues Rock, Garage Rock',\n",
              "  'year': 2001}]"
            ]
          },
          "metadata": {},
          "execution_count": 30
        }
      ]
    },
    {
      "cell_type": "markdown",
      "metadata": {
        "id": "wEiqx7Hx9oi6"
      },
      "source": [
        "* `all_albums` - Takes an argument of albums and returns the list of album names.\n",
        "\n",
        "* `all_artists` - Takes argument of list of albums and returns a list of all artists (where each element is a string), and no artist is repeated. \n",
        "\n",
        "* `find_by_name` - Has one argument of `album_name`. Returns a dictionary of the correct album, or `None` if no album is found.\n",
        "\n",
        "* `find_by_ranks` - Takes `begin_rank` and `end_rank` as arguments.  Also possible to execute the function by just providing the `begin_rank` or `end_rank` (and not both).  If no arguments are provided the entire list of albums are returned.\n",
        "\n",
        "* `find_by_years` - Takes `begin_year` and `end_year` as arguments, and returns a list of dictionaries for albums between those years.  Also possible to execute the function by just providing the `begin_year` or `end_year` (and not both)."
      ]
    },
    {
      "cell_type": "code",
      "source": [
        ""
      ],
      "metadata": {
        "id": "e2D9gB9Q-NOi"
      },
      "execution_count": null,
      "outputs": []
    },
    {
      "cell_type": "markdown",
      "metadata": {
        "id": "ttVWiyWA9ojF"
      },
      "source": [
        "### Working with Songs"
      ]
    },
    {
      "cell_type": "markdown",
      "metadata": {
        "id": "B7iCLPNj9ojG"
      },
      "source": [
        "Next, let's load up data related to songs, and data that connects albums and songs."
      ]
    },
    {
      "cell_type": "code",
      "execution_count": 31,
      "metadata": {
        "id": "ovoEWNYc9ojH"
      },
      "outputs": [],
      "source": [
        "import pandas as pd\n",
        "songs_url = \"https://raw.githubusercontent.com/eng-6-22/mod-1-a-data-structures/master/6-top-songs/top-500-songs.txt\"\n",
        "songs_df = pd.read_csv(songs_url, sep='\\t', header = None, names = ['rank', 'song', 'artist', 'year'])\n",
        "songs = songs_df.to_dict('records')\n",
        "\n",
        "track_url = \"https://raw.githubusercontent.com/eng-6-22/mod-1-a-data-structures/master/6-top-songs/track_data.json\"\n",
        "albums_and_tracks = pd.read_json(track_url)\n",
        "albums_tracks = albums_and_tracks.to_dict('records')"
      ]
    },
    {
      "cell_type": "code",
      "execution_count": 32,
      "metadata": {
        "colab": {
          "base_uri": "https://localhost:8080/"
        },
        "id": "90W6HwFZ9ojK",
        "outputId": "f2d7ba19-4e4b-492f-d5d4-303a25d17bb2"
      },
      "outputs": [
        {
          "output_type": "execute_result",
          "data": {
            "text/plain": [
              "[{'artist': 'Bob Dylan',\n",
              "  'rank': 1,\n",
              "  'song': 'Like a Rolling Stone',\n",
              "  'year': 1965},\n",
              " {'artist': 'The Rolling Stones',\n",
              "  'rank': 2,\n",
              "  'song': 'Satisfaction',\n",
              "  'year': 1965},\n",
              " {'artist': 'John Lennon', 'rank': 3, 'song': 'Imagine', 'year': 1971},\n",
              " {'artist': 'Marvin Gaye', 'rank': 4, 'song': \"What's Going On\", 'year': 1971},\n",
              " {'artist': 'Aretha Franklin', 'rank': 5, 'song': 'Respect', 'year': 1967}]"
            ]
          },
          "metadata": {},
          "execution_count": 32
        }
      ],
      "source": [
        "songs[:5]"
      ]
    },
    {
      "cell_type": "code",
      "source": [
        "\n",
        "for song in songs:\n",
        "  if song['song'] == 'Like a Rolling Stone':\n",
        "    print(song)"
      ],
      "metadata": {
        "colab": {
          "base_uri": "https://localhost:8080/"
        },
        "id": "RA6wuA46SQFe",
        "outputId": "2092cf28-644e-49e2-8a33-5e4aa2fe3e6e"
      },
      "execution_count": 47,
      "outputs": [
        {
          "output_type": "stream",
          "name": "stdout",
          "text": [
            "{'rank': 1, 'song': 'Like a Rolling Stone', 'artist': 'Bob Dylan', 'year': 1965}\n"
          ]
        }
      ]
    },
    {
      "cell_type": "code",
      "execution_count": 50,
      "metadata": {
        "id": "BP4j06A-9ojK"
      },
      "outputs": [],
      "source": [
        "first_tracks = albums_tracks[:2]"
      ]
    },
    {
      "cell_type": "code",
      "source": [
        "counter = 0\n",
        "for albums_track in albums_tracks:\n",
        "  for track in albums_track['tracks']:\n",
        "    for song in songs:\n",
        "      if track == song['song']:\n",
        "        counter += 1\n",
        "counter\n",
        "\n"
      ],
      "metadata": {
        "colab": {
          "base_uri": "https://localhost:8080/"
        },
        "id": "xhq-UDz4QduX",
        "outputId": "598652b0-8d90-4951-a1d6-920e1c46d87b"
      },
      "execution_count": 48,
      "outputs": [
        {
          "output_type": "stream",
          "name": "stdout",
          "text": [
            "Like a Rolling Stone\n",
            "Highway 61 Revisited\n",
            "Desolation Row\n"
          ]
        },
        {
          "output_type": "execute_result",
          "data": {
            "text/plain": [
              "3"
            ]
          },
          "metadata": {},
          "execution_count": 48
        }
      ]
    },
    {
      "cell_type": "code",
      "source": [
        "len(songs)"
      ],
      "metadata": {
        "colab": {
          "base_uri": "https://localhost:8080/"
        },
        "id": "KYx03wb7OZpx",
        "outputId": "0779b92f-bc79-4572-eca6-3d4684422461"
      },
      "execution_count": 36,
      "outputs": [
        {
          "output_type": "execute_result",
          "data": {
            "text/plain": [
              "500"
            ]
          },
          "metadata": {},
          "execution_count": 36
        }
      ]
    },
    {
      "cell_type": "markdown",
      "metadata": {
        "id": "Z_3pfEt79ojL"
      },
      "source": [
        "* Write functions that perform the following: "
      ]
    },
    {
      "cell_type": "code",
      "source": [
        "def album_most_top_songs():\n",
        "  for albums_track in albums_tracks:\n",
        "    \n"
      ],
      "metadata": {
        "id": "pDvE061mM4oq"
      },
      "execution_count": null,
      "outputs": []
    },
    {
      "cell_type": "markdown",
      "metadata": {
        "id": "r_fbanLO9ojM"
      },
      "source": [
        "`album_most_top_songs` - \n",
        "    * Returns the name of the artist and album that has that most songs featured on the top 500 songs list\n",
        "\n",
        "`top_ten_albums_by_songs` - returns a dictionary with the 10 albums that have the most songs that appear in the top songs list. The album names should be the keys and the corresponding values should be the number of songs that appear on the top 500 list."
      ]
    }
  ],
  "metadata": {
    "kernelspec": {
      "display_name": "Python 3 (ipykernel)",
      "language": "python",
      "name": "python3"
    },
    "language_info": {
      "codemirror_mode": {
        "name": "ipython",
        "version": 3
      },
      "file_extension": ".py",
      "mimetype": "text/x-python",
      "name": "python",
      "nbconvert_exporter": "python",
      "pygments_lexer": "ipython3",
      "version": "3.9.10"
    },
    "colab": {
      "name": "albums-lab.ipynb",
      "provenance": [],
      "include_colab_link": true
    }
  },
  "nbformat": 4,
  "nbformat_minor": 0
}