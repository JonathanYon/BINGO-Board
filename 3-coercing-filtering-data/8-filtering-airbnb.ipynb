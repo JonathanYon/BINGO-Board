{
  "cells": [
    {
      "cell_type": "markdown",
      "metadata": {
        "id": "HvhnrWAyjuZL"
      },
      "source": [
        "# Filtering Airbnb"
      ]
    },
    {
      "cell_type": "markdown",
      "metadata": {
        "id": "m10hp3jpjuZf"
      },
      "source": [
        "### Introduction"
      ]
    },
    {
      "cell_type": "markdown",
      "metadata": {
        "id": "ejIgU5QNjuZg"
      },
      "source": [
        "In this lesson, we'll use our knowledge of loops and filtering to work with Airbnb data in New York City. Let's get started."
      ]
    },
    {
      "cell_type": "markdown",
      "metadata": {
        "id": "4TVBhXLpjuZh"
      },
      "source": [
        "### Loading and Exploring our Data"
      ]
    },
    {
      "cell_type": "markdown",
      "metadata": {
        "id": "0NAGzhZsjuZi"
      },
      "source": [
        "Let's start by loading up our data."
      ]
    },
    {
      "cell_type": "code",
      "execution_count": 1,
      "metadata": {
        "id": "G4sYCgZ2juZk"
      },
      "outputs": [],
      "source": [
        "import pandas as pd\n",
        "listings_df = pd.read_csv('https://raw.githubusercontent.com/eng-6-22/mod-1-a-data-structures/master/3-coercing-filtering-data/AB_NYC_2019.csv')\n",
        "\n",
        "listings = listings_df.to_dict('records')"
      ]
    },
    {
      "cell_type": "markdown",
      "metadata": {
        "id": "9pCwQtlLjuZo"
      },
      "source": [
        "Let's start by seeing the number of listings we have gathered."
      ]
    },
    {
      "cell_type": "code",
      "execution_count": 2,
      "metadata": {
        "id": "Nt0FM4UDjuZq",
        "outputId": "ec02deb5-4674-453f-a0df-3a87fbcbe478",
        "colab": {
          "base_uri": "https://localhost:8080/"
        }
      },
      "outputs": [
        {
          "output_type": "execute_result",
          "data": {
            "text/plain": [
              "48895"
            ]
          },
          "metadata": {},
          "execution_count": 2
        }
      ],
      "source": [
        "len(listings)\n",
        "\n",
        "# 48895"
      ]
    },
    {
      "cell_type": "markdown",
      "metadata": {
        "id": "j4iniYJAjuZs"
      },
      "source": [
        "And now, let's see which attributes are available to us on each listing.  Look at the keys available on a single listing."
      ]
    },
    {
      "cell_type": "code",
      "execution_count": 4,
      "metadata": {
        "id": "Fw5kV1qajuZu",
        "outputId": "8977edef-616f-4e1e-a642-56fb47b53d15",
        "colab": {
          "base_uri": "https://localhost:8080/"
        }
      },
      "outputs": [
        {
          "output_type": "execute_result",
          "data": {
            "text/plain": [
              "dict_keys(['id', 'name', 'host_id', 'host_name', 'neighbourhood_group', 'neighbourhood', 'latitude', 'longitude', 'room_type', 'price', 'minimum_nights', 'number_of_reviews', 'last_review', 'reviews_per_month', 'calculated_host_listings_count', 'availability_365'])"
            ]
          },
          "metadata": {},
          "execution_count": 4
        }
      ],
      "source": [
        "listings[0].keys()\n",
        "\n",
        "# dict_keys(['id', 'name', 'host_id', 'host_name', 'neighbourhood_group', \n",
        "# 'neighbourhood', 'latitude', 'longitude', 'room_type', 'price',\n",
        "# 'minimum_nights', 'number_of_reviews', 'last_review', 'reviews_per_month', \n",
        "# 'calculated_host_listings_count', 'availability_365'])"
      ]
    },
    {
      "cell_type": "markdown",
      "metadata": {
        "id": "FqzczN31juZv"
      },
      "source": [
        "Now we'll like to calculate some statistics with this data.  Before doing so, let's get a sense of how recent our data is.  "
      ]
    },
    {
      "cell_type": "markdown",
      "metadata": {
        "id": "XC6mbqKSjuZw"
      },
      "source": [
        "To start, let's select just the `last_review` value from each element.  \n",
        "> Use list comprehension to create a list of `last_reviews`, one for each listing."
      ]
    },
    {
      "cell_type": "code",
      "execution_count": 6,
      "metadata": {
        "id": "Ebb0bKLgjuZx"
      },
      "outputs": [],
      "source": [
        "last_reviews = [listing['last_review'] for listing in listings ]"
      ]
    },
    {
      "cell_type": "code",
      "execution_count": 7,
      "metadata": {
        "id": "EARsWmuojuZx",
        "outputId": "bafa24cf-b146-4d1b-e44e-3e0c2a4a9d09",
        "colab": {
          "base_uri": "https://localhost:8080/"
        }
      },
      "outputs": [
        {
          "output_type": "execute_result",
          "data": {
            "text/plain": [
              "['2018-10-19', '2019-05-21', nan, '2019-07-05', '2018-11-19']"
            ]
          },
          "metadata": {},
          "execution_count": 7
        }
      ],
      "source": [
        "last_reviews[:5]\n",
        "\n",
        "# ['2018-10-19', '2019-05-21', nan, '2019-07-05', '2018-11-19']"
      ]
    },
    {
      "cell_type": "markdown",
      "metadata": {
        "id": "DjjpPNXbjuZy"
      },
      "source": [
        "We can see from the above that some of our listings have `nan` values.  \n",
        "> As we may know `nan` stands for not a number and is generally used to represent missing values.  \n",
        "\n",
        "Let's filter out the listings with last_review values of `nan`.  Removing only `nan` values can be tricky.  So here's a hint to get you started:"
      ]
    },
    {
      "cell_type": "markdown",
      "metadata": {
        "id": "VKvMa5cfjuZz"
      },
      "source": [
        "> nan is of type `float`.  So to check if the our value is `nan` we can use something like the following."
      ]
    },
    {
      "cell_type": "code",
      "execution_count": null,
      "metadata": {
        "id": "ezUoujbzjuZz",
        "outputId": "98e26882-f0a2-43e8-9f33-32a489717981"
      },
      "outputs": [
        {
          "data": {
            "text/plain": [
              "False"
            ]
          },
          "execution_count": 100,
          "metadata": {},
          "output_type": "execute_result"
        }
      ],
      "source": [
        "type(last_reviews[0]) == float"
      ]
    },
    {
      "cell_type": "code",
      "execution_count": null,
      "metadata": {
        "id": "MbgUTwJ6juZ0",
        "outputId": "960d960e-8020-4612-e17b-7c09971e71e8"
      },
      "outputs": [
        {
          "data": {
            "text/plain": [
              "True"
            ]
          },
          "execution_count": 101,
          "metadata": {},
          "output_type": "execute_result"
        }
      ],
      "source": [
        "type(last_reviews[2]) == float"
      ]
    },
    {
      "cell_type": "code",
      "execution_count": null,
      "metadata": {
        "id": "dq-l7n20juZ1"
      },
      "outputs": [],
      "source": [
        "last_reviews[0], last_reviews[2]\n",
        "# ('2018-10-19', nan)"
      ]
    },
    {
      "cell_type": "markdown",
      "metadata": {
        "id": "52zgF5O5juZ2"
      },
      "source": [
        "Now, use what you learned from above to select *listings* that do not have a `last_review` value of nan."
      ]
    },
    {
      "cell_type": "code",
      "execution_count": 34,
      "metadata": {
        "id": "9LbEU_jGjuZ4",
        "outputId": "1ec2600c-d105-46c5-dbb0-9217ec14d93c",
        "colab": {
          "base_uri": "https://localhost:8080/"
        }
      },
      "outputs": [
        {
          "output_type": "execute_result",
          "data": {
            "text/plain": [
              "{'availability_365': 365,\n",
              " 'calculated_host_listings_count': 6,\n",
              " 'host_id': 2787,\n",
              " 'host_name': 'John',\n",
              " 'id': 2539,\n",
              " 'last_review': '2018-10-19',\n",
              " 'latitude': 40.64749,\n",
              " 'longitude': -73.97237,\n",
              " 'minimum_nights': 1,\n",
              " 'name': 'Clean & quiet apt home by the park',\n",
              " 'neighbourhood': 'Kensington',\n",
              " 'neighbourhood_group': 'Brooklyn',\n",
              " 'number_of_reviews': 9,\n",
              " 'price': 149,\n",
              " 'reviews_per_month': 0.21,\n",
              " 'room_type': 'Private room'}"
            ]
          },
          "metadata": {},
          "execution_count": 34
        }
      ],
      "source": [
        "listings_not_nan = [listing for listing in listings if type(listing['last_review']) is not float]\n",
        "listings_not_nan[0]"
      ]
    },
    {
      "cell_type": "code",
      "execution_count": 35,
      "metadata": {
        "id": "fv81bfFgjuZ5",
        "outputId": "5e2e5923-984d-4eb8-a20f-0e3e8e0f3aeb",
        "colab": {
          "base_uri": "https://localhost:8080/"
        }
      },
      "outputs": [
        {
          "output_type": "execute_result",
          "data": {
            "text/plain": [
              "38843"
            ]
          },
          "metadata": {},
          "execution_count": 35
        }
      ],
      "source": [
        "len(listings_not_nan)\n",
        "\n",
        "# 38843"
      ]
    },
    {
      "cell_type": "markdown",
      "metadata": {
        "id": "BO6WSFtejuZ6"
      },
      "source": [
        "Calculate the percentage of listings we have left."
      ]
    },
    {
      "cell_type": "code",
      "execution_count": 36,
      "metadata": {
        "id": "LIEI0CdujuZ7",
        "outputId": "6e708228-d206-4279-f5d7-bec05f15b99e",
        "colab": {
          "base_uri": "https://localhost:8080/"
        }
      },
      "outputs": [
        {
          "output_type": "execute_result",
          "data": {
            "text/plain": [
              "0.7944166070150323"
            ]
          },
          "metadata": {},
          "execution_count": 36
        }
      ],
      "source": [
        "percentage = len(listings_not_nan) / len(last_reviews)\n",
        "percentage\n",
        "# 0.7944166070150323"
      ]
    },
    {
      "cell_type": "markdown",
      "metadata": {
        "id": "yZnOcrJFjuZ8"
      },
      "source": [
        "Ok, not amazing, but not bad."
      ]
    },
    {
      "cell_type": "markdown",
      "metadata": {
        "id": "90aXUikTjuZ8"
      },
      "source": [
        "### Back on Track"
      ]
    },
    {
      "cell_type": "markdown",
      "metadata": {
        "id": "RBW4hR2ujuZ8"
      },
      "source": [
        "Now that we've removed our listings with a last_review of nan, let's make sure that we are working with relatively recent reviews."
      ]
    },
    {
      "cell_type": "markdown",
      "metadata": {
        "id": "BCeMHHZVjuZ9"
      },
      "source": [
        "Our first step is to change the first `last_review` value from to a Python string to a datetime object.\n",
        "\n",
        "> Let's practice this on a single element first."
      ]
    },
    {
      "cell_type": "markdown",
      "metadata": {
        "id": "Oy0Q3XV9juZ9"
      },
      "source": [
        "> See [this post](https://chrisalbon.com/code/python/basics/date_and_time_basics/) for coercing data to a datetime to do so."
      ]
    },
    {
      "cell_type": "code",
      "execution_count": 37,
      "metadata": {
        "id": "CFb16PGVjuZ-"
      },
      "outputs": [],
      "source": [
        "first_listing = listings[0]"
      ]
    },
    {
      "cell_type": "code",
      "execution_count": 38,
      "metadata": {
        "id": "-aX084aLjuZ-",
        "outputId": "772ec6f0-7836-4d49-e4c4-420ca6ae9958",
        "colab": {
          "base_uri": "https://localhost:8080/",
          "height": 35
        }
      },
      "outputs": [
        {
          "output_type": "execute_result",
          "data": {
            "text/plain": [
              "'2018-10-19'"
            ],
            "application/vnd.google.colaboratory.intrinsic+json": {
              "type": "string"
            }
          },
          "metadata": {},
          "execution_count": 38
        }
      ],
      "source": [
        "last_review = first_listing['last_review']\n",
        "last_review"
      ]
    },
    {
      "cell_type": "code",
      "execution_count": 39,
      "metadata": {
        "id": "5LZO33bLjuZ-"
      },
      "outputs": [],
      "source": [
        "from datetime import date\n",
        "last_review_datetime = date.fromisoformat(last_review)\n"
      ]
    },
    {
      "cell_type": "code",
      "execution_count": 40,
      "metadata": {
        "id": "IjCf-g9_juZ_",
        "outputId": "cb6431d0-a074-4415-e265-a5b565fd1be8",
        "colab": {
          "base_uri": "https://localhost:8080/"
        }
      },
      "outputs": [
        {
          "output_type": "execute_result",
          "data": {
            "text/plain": [
              "(2018, 10)"
            ]
          },
          "metadata": {},
          "execution_count": 40
        }
      ],
      "source": [
        "last_review_datetime.year, last_review_datetime.month "
      ]
    },
    {
      "cell_type": "code",
      "execution_count": 41,
      "metadata": {
        "id": "tsJkan8KjuZ_",
        "outputId": "d3ff140a-5e0b-4d36-ab2a-541211a7a578",
        "colab": {
          "base_uri": "https://localhost:8080/"
        }
      },
      "outputs": [
        {
          "output_type": "execute_result",
          "data": {
            "text/plain": [
              "{'availability_365': 365,\n",
              " 'calculated_host_listings_count': 6,\n",
              " 'host_id': 2787,\n",
              " 'host_name': 'John',\n",
              " 'id': 2539,\n",
              " 'last_review': '2018-10-19',\n",
              " 'latitude': 40.64749,\n",
              " 'longitude': -73.97237,\n",
              " 'minimum_nights': 1,\n",
              " 'name': 'Clean & quiet apt home by the park',\n",
              " 'neighbourhood': 'Kensington',\n",
              " 'neighbourhood_group': 'Brooklyn',\n",
              " 'number_of_reviews': 9,\n",
              " 'price': 149,\n",
              " 'reviews_per_month': 0.21,\n",
              " 'room_type': 'Private room'}"
            ]
          },
          "metadata": {},
          "execution_count": 41
        }
      ],
      "source": [
        "listings_not_nan_copied = listings_not_nan.copy()\n",
        "listings_not_nan_copied[0]"
      ]
    },
    {
      "cell_type": "markdown",
      "metadata": {
        "id": "J5j93iAMjuaA"
      },
      "source": [
        "> Now iterate through the copy of `listings_not_nan_copied` and change each `last_review` to a datetime."
      ]
    },
    {
      "cell_type": "code",
      "execution_count": 66,
      "metadata": {
        "id": "dP_ZhXMFjuaA",
        "outputId": "9c9082a6-5a9b-4586-919b-56aac1bb742a",
        "colab": {
          "base_uri": "https://localhost:8080/",
          "height": 235
        }
      },
      "outputs": [
        {
          "output_type": "error",
          "ename": "TypeError",
          "evalue": "ignored",
          "traceback": [
            "\u001b[0;31m---------------------------------------------------------------------------\u001b[0m",
            "\u001b[0;31mTypeError\u001b[0m                                 Traceback (most recent call last)",
            "\u001b[0;32m<ipython-input-66-f24feaee4557>\u001b[0m in \u001b[0;36m<module>\u001b[0;34m()\u001b[0m\n\u001b[1;32m      1\u001b[0m \u001b[0;32mfor\u001b[0m \u001b[0mlisting_not_nan_copied\u001b[0m \u001b[0;32min\u001b[0m \u001b[0mlistings_not_nan_copied\u001b[0m\u001b[0;34m:\u001b[0m\u001b[0;34m\u001b[0m\u001b[0;34m\u001b[0m\u001b[0m\n\u001b[0;32m----> 2\u001b[0;31m   \u001b[0mlisting_not_nan_copied\u001b[0m\u001b[0;34m[\u001b[0m\u001b[0;34m'last_review'\u001b[0m\u001b[0;34m]\u001b[0m \u001b[0;34m=\u001b[0m \u001b[0mdate\u001b[0m\u001b[0;34m.\u001b[0m\u001b[0mfromisoformat\u001b[0m\u001b[0;34m(\u001b[0m\u001b[0mlisting_not_nan_copied\u001b[0m\u001b[0;34m[\u001b[0m\u001b[0;34m'last_review'\u001b[0m\u001b[0;34m]\u001b[0m\u001b[0;34m)\u001b[0m\u001b[0;34m\u001b[0m\u001b[0;34m\u001b[0m\u001b[0m\n\u001b[0m\u001b[1;32m      3\u001b[0m \u001b[0mlistings_not_nan_copied\u001b[0m\u001b[0;34m[\u001b[0m\u001b[0;36m0\u001b[0m\u001b[0;34m]\u001b[0m\u001b[0;34m\u001b[0m\u001b[0;34m\u001b[0m\u001b[0m\n\u001b[1;32m      4\u001b[0m \u001b[0;34m\u001b[0m\u001b[0m\n\u001b[1;32m      5\u001b[0m \u001b[0;31m# write code here to change the dictionaries in listings_not_nan_copied\u001b[0m\u001b[0;34m\u001b[0m\u001b[0;34m\u001b[0m\u001b[0;34m\u001b[0m\u001b[0m\n",
            "\u001b[0;31mTypeError\u001b[0m: fromisoformat: argument must be str"
          ]
        }
      ],
      "source": [
        "for listing_not_nan_copied in listings_not_nan_copied:\n",
        "  listing_not_nan_copied['last_review'] = date.fromisoformat(listing_not_nan_copied['last_review'])\n",
        "listings_not_nan_copied[0]\n",
        "\n",
        "# write code here to change the dictionaries in listings_not_nan_copied"
      ]
    },
    {
      "cell_type": "code",
      "source": [
        "listings_not_nan_copied[0]['last_review'].year"
      ],
      "metadata": {
        "id": "GCc2tq4NvrT_",
        "outputId": "6815a435-08fd-4d6d-efea-7d5a294dd822",
        "colab": {
          "base_uri": "https://localhost:8080/"
        }
      },
      "execution_count": 69,
      "outputs": [
        {
          "output_type": "execute_result",
          "data": {
            "text/plain": [
              "2018"
            ]
          },
          "metadata": {},
          "execution_count": 69
        }
      ]
    },
    {
      "cell_type": "markdown",
      "metadata": {
        "id": "_YIfWmW8juaD"
      },
      "source": [
        "> We can check that each `last_review` is now a datetime object."
      ]
    },
    {
      "cell_type": "code",
      "execution_count": 51,
      "metadata": {
        "id": "Ja5Jc_aNjuaE",
        "outputId": "dec06b74-da8e-4638-b847-7dcd870d6ce8",
        "colab": {
          "base_uri": "https://localhost:8080/"
        }
      },
      "outputs": [
        {
          "output_type": "execute_result",
          "data": {
            "text/plain": [
              "[datetime.date(2018, 10, 19), datetime.date(2019, 5, 21)]"
            ]
          },
          "metadata": {},
          "execution_count": 51
        }
      ],
      "source": [
        "updated_last_reviews = [listing['last_review'] \n",
        "                        for listing in listings_not_nan_copied]\n",
        "\n",
        "updated_last_reviews[:2]\n",
        "\n",
        "# [datetime.datetime(2018, 10, 19, 0, 0), datetime.datetime(2019, 5, 21, 0, 0)]"
      ]
    },
    {
      "cell_type": "markdown",
      "metadata": {
        "id": "Ugf5UBlpjuaF"
      },
      "source": [
        "Ok, now find the listing with the oldest last_review, and then we'll find the listing with the most recent last review."
      ]
    },
    {
      "cell_type": "code",
      "execution_count": 60,
      "metadata": {
        "id": "GU7i60NLjuaG"
      },
      "outputs": [],
      "source": [
        "earliest_listing = sorted(listings_not_nan_copied, key=lambda x:x['last_review'])[0]\n",
        "# earliest_listing[0]"
      ]
    },
    {
      "cell_type": "code",
      "execution_count": 61,
      "metadata": {
        "id": "nS7zx06AjuaI",
        "outputId": "73312346-b9b2-459f-bcdb-07091b4670cf",
        "colab": {
          "base_uri": "https://localhost:8080/"
        }
      },
      "outputs": [
        {
          "output_type": "execute_result",
          "data": {
            "text/plain": [
              "datetime.date(2011, 3, 28)"
            ]
          },
          "metadata": {},
          "execution_count": 61
        }
      ],
      "source": [
        "earliest_listing['last_review']\n",
        "\n",
        "# datetime.datetime(2011, 3, 28, 0, 0)"
      ]
    },
    {
      "cell_type": "code",
      "execution_count": 62,
      "metadata": {
        "id": "rCbKAMCkjuaK"
      },
      "outputs": [],
      "source": [
        "latest_listing = sorted(listings_not_nan_copied, key=lambda x:x['last_review'])[-1]\n"
      ]
    },
    {
      "cell_type": "code",
      "execution_count": 63,
      "metadata": {
        "id": "mFSJayODjuaK",
        "outputId": "f5086c73-6eb9-4bd9-a328-83e72807bddc",
        "colab": {
          "base_uri": "https://localhost:8080/"
        }
      },
      "outputs": [
        {
          "output_type": "execute_result",
          "data": {
            "text/plain": [
              "datetime.date(2019, 7, 8)"
            ]
          },
          "metadata": {},
          "execution_count": 63
        }
      ],
      "source": [
        "latest_listing['last_review']\n",
        "# datetime.datetime(2019, 7, 8, 0, 0)"
      ]
    },
    {
      "cell_type": "markdown",
      "metadata": {
        "id": "90LHmzW_juaL"
      },
      "source": [
        "So we can see that our data ranges from 2011 to July 2019.  Let's limit our data so that we only are working with data from July 2017 to July 2019."
      ]
    },
    {
      "cell_type": "code",
      "execution_count": 72,
      "metadata": {
        "id": "y-mSxaJEjuaM"
      },
      "outputs": [],
      "source": [
        "recent_listings = [listing_not_nan_copied for listing_not_nan_copied in listings_not_nan_copied if listing_not_nan_copied['last_review'] >= date(2017, 7, 1)\n",
        "and listing_not_nan_copied['last_review'] <= date(2019, 7, 31)]"
      ]
    },
    {
      "cell_type": "code",
      "execution_count": 73,
      "metadata": {
        "id": "tzQyo9OhjuaM",
        "outputId": "75f55b03-6085-436e-fc19-04b06494372a",
        "colab": {
          "base_uri": "https://localhost:8080/"
        }
      },
      "outputs": [
        {
          "output_type": "execute_result",
          "data": {
            "text/plain": [
              "33259"
            ]
          },
          "metadata": {},
          "execution_count": 73
        }
      ],
      "source": [
        "len(recent_listings)\n",
        "\n",
        "# 33259"
      ]
    },
    {
      "cell_type": "markdown",
      "metadata": {
        "id": "pFC41u_1juaN"
      },
      "source": [
        "So now we have about 11000 recent listings."
      ]
    },
    {
      "cell_type": "markdown",
      "metadata": {
        "id": "mJSlFnzHjuaO"
      },
      "source": [
        "### Listings by Neighborhood"
      ]
    },
    {
      "cell_type": "markdown",
      "metadata": {
        "id": "BhDEmA9ljuaO"
      },
      "source": [
        "Let's getter a better sense of some of these recent listings.  Begin by creating a list of each `neighbourhood_group` of our recent listings."
      ]
    },
    {
      "cell_type": "code",
      "execution_count": 75,
      "metadata": {
        "id": "7OLhiy4ZjuaP",
        "outputId": "87993e1f-0528-4818-9e6b-05a8ff86a9e5",
        "colab": {
          "base_uri": "https://localhost:8080/"
        }
      },
      "outputs": [
        {
          "output_type": "execute_result",
          "data": {
            "text/plain": [
              "['Bronx', 'Brooklyn', 'Queens', 'Manhattan', 'Staten Island']"
            ]
          },
          "metadata": {},
          "execution_count": 75
        }
      ],
      "source": [
        "# write code here\n",
        "neighbourhood = [recent_listing['neighbourhood_group'] for recent_listing in recent_listings ]\n",
        "unique_neighbourhood = list(set(neighbourhood))\n",
        "unique_neighbourhood\n",
        "# ['Queens', 'Brooklyn', 'Bronx', 'Manhattan', 'Staten Island']"
      ]
    },
    {
      "cell_type": "markdown",
      "metadata": {
        "id": "3oVlAN2rjuaP"
      },
      "source": [
        "Ok, so it looks like the five boroughs.  Now let's find the number `recent_listings` in Manhattan that were less than or equal to 50 dollars."
      ]
    },
    {
      "cell_type": "code",
      "execution_count": 76,
      "metadata": {
        "id": "qXiyB0y8juaQ"
      },
      "outputs": [],
      "source": [
        "cheaper_manhattan_listings = [recent_listing for recent_listing in recent_listings if recent_listing['neighbourhood_group'] == 'Manhattan' and recent_listing['price'] <= 50]"
      ]
    },
    {
      "cell_type": "code",
      "execution_count": 77,
      "metadata": {
        "id": "4Pf99c3vjuaQ",
        "outputId": "52aa0da9-3f89-47db-ac36-b2f2029f86ba",
        "colab": {
          "base_uri": "https://localhost:8080/"
        }
      },
      "outputs": [
        {
          "output_type": "execute_result",
          "data": {
            "text/plain": [
              "640"
            ]
          },
          "metadata": {},
          "execution_count": 77
        }
      ],
      "source": [
        "len(cheaper_manhattan_listings)\n",
        "\n",
        "# 215"
      ]
    },
    {
      "cell_type": "markdown",
      "metadata": {
        "id": "_Tcd8sHNjuaR"
      },
      "source": [
        "### Summary"
      ]
    },
    {
      "cell_type": "markdown",
      "metadata": {
        "id": "0vG1s86IjuaR"
      },
      "source": [
        "In this lesson, we saw how to use filtering to reduce our dataset down to higher quality data and to then query our data.  We also worked to remove `nan` values by looking to see if the datatype of our data was a float.  As an alternative, we could have also used the function from the math library."
      ]
    },
    {
      "cell_type": "code",
      "execution_count": 78,
      "metadata": {
        "id": "_7FuoVe_juaS",
        "outputId": "9d6a6e87-d806-4171-b2d0-e3bce80ed161",
        "colab": {
          "base_uri": "https://localhost:8080/"
        }
      },
      "outputs": [
        {
          "output_type": "execute_result",
          "data": {
            "text/plain": [
              "True"
            ]
          },
          "metadata": {},
          "execution_count": 78
        }
      ],
      "source": [
        "import math\n",
        "import numpy as np\n",
        "\n",
        "math.isnan(np.nan)"
      ]
    }
  ],
  "metadata": {
    "kernelspec": {
      "display_name": "Python 3 (ipykernel)",
      "language": "python",
      "name": "python3"
    },
    "language_info": {
      "codemirror_mode": {
        "name": "ipython",
        "version": 3
      },
      "file_extension": ".py",
      "mimetype": "text/x-python",
      "name": "python",
      "nbconvert_exporter": "python",
      "pygments_lexer": "ipython3",
      "version": "3.9.10"
    },
    "colab": {
      "name": "8-filtering-airbnb.ipynb",
      "provenance": []
    }
  },
  "nbformat": 4,
  "nbformat_minor": 0
}